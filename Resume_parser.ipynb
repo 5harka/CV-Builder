{
 "cells": [
  {
   "cell_type": "code",
   "execution_count": 1,
   "id": "66d43c5b-c0df-439f-abc4-b8ac677d21b8",
   "metadata": {},
   "outputs": [
    {
     "name": "stdout",
     "output_type": "stream",
     "text": [
      "Requirement already satisfied: pyresparser in c:\\users\\sharmarke.kadir\\desktop\\panda data\\pythonproject1\\.venv\\lib\\site-packages (1.0.6)\n",
      "Requirement already satisfied: attrs>=19.1.0 in c:\\users\\sharmarke.kadir\\desktop\\panda data\\pythonproject1\\.venv\\lib\\site-packages (from pyresparser) (24.2.0)\n",
      "Requirement already satisfied: blis>=0.2.4 in c:\\users\\sharmarke.kadir\\desktop\\panda data\\pythonproject1\\.venv\\lib\\site-packages (from pyresparser) (1.0.1)\n",
      "Requirement already satisfied: certifi>=2019.6.16 in c:\\users\\sharmarke.kadir\\desktop\\panda data\\pythonproject1\\.venv\\lib\\site-packages (from pyresparser) (2024.8.30)\n",
      "Requirement already satisfied: chardet>=3.0.4 in c:\\users\\sharmarke.kadir\\desktop\\panda data\\pythonproject1\\.venv\\lib\\site-packages (from pyresparser) (5.2.0)\n",
      "Requirement already satisfied: cymem>=2.0.2 in c:\\users\\sharmarke.kadir\\desktop\\panda data\\pythonproject1\\.venv\\lib\\site-packages (from pyresparser) (2.0.8)\n",
      "Requirement already satisfied: docx2txt>=0.7 in c:\\users\\sharmarke.kadir\\desktop\\panda data\\pythonproject1\\.venv\\lib\\site-packages (from pyresparser) (0.8)\n",
      "Requirement already satisfied: idna>=2.8 in c:\\users\\sharmarke.kadir\\desktop\\panda data\\pythonproject1\\.venv\\lib\\site-packages (from pyresparser) (3.10)\n",
      "Requirement already satisfied: jsonschema>=3.0.1 in c:\\users\\sharmarke.kadir\\desktop\\panda data\\pythonproject1\\.venv\\lib\\site-packages (from pyresparser) (4.23.0)\n",
      "Requirement already satisfied: nltk>=3.4.3 in c:\\users\\sharmarke.kadir\\desktop\\panda data\\pythonproject1\\.venv\\lib\\site-packages (from pyresparser) (3.9.1)\n",
      "Requirement already satisfied: numpy>=1.16.4 in c:\\users\\sharmarke.kadir\\desktop\\panda data\\pythonproject1\\.venv\\lib\\site-packages (from pyresparser) (2.0.2)\n",
      "Requirement already satisfied: pandas>=0.24.2 in c:\\users\\sharmarke.kadir\\desktop\\panda data\\pythonproject1\\.venv\\lib\\site-packages (from pyresparser) (2.2.3)\n",
      "Requirement already satisfied: pdfminer.six>=20181108 in c:\\users\\sharmarke.kadir\\desktop\\panda data\\pythonproject1\\.venv\\lib\\site-packages (from pyresparser) (20240706)\n",
      "Requirement already satisfied: preshed>=2.0.1 in c:\\users\\sharmarke.kadir\\desktop\\panda data\\pythonproject1\\.venv\\lib\\site-packages (from pyresparser) (3.0.9)\n",
      "Requirement already satisfied: pycryptodome>=3.8.2 in c:\\users\\sharmarke.kadir\\desktop\\panda data\\pythonproject1\\.venv\\lib\\site-packages (from pyresparser) (3.21.0)\n",
      "Requirement already satisfied: pyrsistent>=0.15.2 in c:\\users\\sharmarke.kadir\\desktop\\panda data\\pythonproject1\\.venv\\lib\\site-packages (from pyresparser) (0.20.0)\n",
      "Requirement already satisfied: python-dateutil>=2.8.0 in c:\\users\\sharmarke.kadir\\desktop\\panda data\\pythonproject1\\.venv\\lib\\site-packages (from pyresparser) (2.9.0.post0)\n",
      "Requirement already satisfied: pytz>=2019.1 in c:\\users\\sharmarke.kadir\\desktop\\panda data\\pythonproject1\\.venv\\lib\\site-packages (from pyresparser) (2024.2)\n",
      "Requirement already satisfied: requests>=2.22.0 in c:\\users\\sharmarke.kadir\\desktop\\panda data\\pythonproject1\\.venv\\lib\\site-packages (from pyresparser) (2.32.3)\n",
      "Requirement already satisfied: six>=1.12.0 in c:\\users\\sharmarke.kadir\\desktop\\panda data\\pythonproject1\\.venv\\lib\\site-packages (from pyresparser) (1.16.0)\n",
      "Requirement already satisfied: sortedcontainers>=2.1.0 in c:\\users\\sharmarke.kadir\\desktop\\panda data\\pythonproject1\\.venv\\lib\\site-packages (from pyresparser) (2.4.0)\n",
      "Requirement already satisfied: spacy>=2.1.4 in c:\\users\\sharmarke.kadir\\desktop\\panda data\\pythonproject1\\.venv\\lib\\site-packages (from pyresparser) (3.8.2)\n",
      "Requirement already satisfied: srsly>=0.0.7 in c:\\users\\sharmarke.kadir\\desktop\\panda data\\pythonproject1\\.venv\\lib\\site-packages (from pyresparser) (2.4.8)\n",
      "Requirement already satisfied: thinc>=7.0.4 in c:\\users\\sharmarke.kadir\\desktop\\panda data\\pythonproject1\\.venv\\lib\\site-packages (from pyresparser) (8.3.2)\n",
      "Requirement already satisfied: tqdm>=4.32.2 in c:\\users\\sharmarke.kadir\\desktop\\panda data\\pythonproject1\\.venv\\lib\\site-packages (from pyresparser) (4.66.6)\n",
      "Requirement already satisfied: urllib3>=1.25.3 in c:\\users\\sharmarke.kadir\\desktop\\panda data\\pythonproject1\\.venv\\lib\\site-packages (from pyresparser) (2.2.3)\n",
      "Requirement already satisfied: wasabi>=0.2.2 in c:\\users\\sharmarke.kadir\\desktop\\panda data\\pythonproject1\\.venv\\lib\\site-packages (from pyresparser) (1.1.3)\n",
      "Requirement already satisfied: jsonschema-specifications>=2023.03.6 in c:\\users\\sharmarke.kadir\\desktop\\panda data\\pythonproject1\\.venv\\lib\\site-packages (from jsonschema>=3.0.1->pyresparser) (2024.10.1)\n",
      "Requirement already satisfied: referencing>=0.28.4 in c:\\users\\sharmarke.kadir\\desktop\\panda data\\pythonproject1\\.venv\\lib\\site-packages (from jsonschema>=3.0.1->pyresparser) (0.35.1)\n",
      "Requirement already satisfied: rpds-py>=0.7.1 in c:\\users\\sharmarke.kadir\\desktop\\panda data\\pythonproject1\\.venv\\lib\\site-packages (from jsonschema>=3.0.1->pyresparser) (0.20.0)\n",
      "Requirement already satisfied: click in c:\\users\\sharmarke.kadir\\desktop\\panda data\\pythonproject1\\.venv\\lib\\site-packages (from nltk>=3.4.3->pyresparser) (8.1.7)\n",
      "Requirement already satisfied: joblib in c:\\users\\sharmarke.kadir\\desktop\\panda data\\pythonproject1\\.venv\\lib\\site-packages (from nltk>=3.4.3->pyresparser) (1.4.2)\n",
      "Requirement already satisfied: regex>=2021.8.3 in c:\\users\\sharmarke.kadir\\desktop\\panda data\\pythonproject1\\.venv\\lib\\site-packages (from nltk>=3.4.3->pyresparser) (2024.9.11)\n",
      "Requirement already satisfied: tzdata>=2022.7 in c:\\users\\sharmarke.kadir\\desktop\\panda data\\pythonproject1\\.venv\\lib\\site-packages (from pandas>=0.24.2->pyresparser) (2024.2)\n",
      "Requirement already satisfied: charset-normalizer>=2.0.0 in c:\\users\\sharmarke.kadir\\desktop\\panda data\\pythonproject1\\.venv\\lib\\site-packages (from pdfminer.six>=20181108->pyresparser) (3.4.0)\n",
      "Requirement already satisfied: cryptography>=36.0.0 in c:\\users\\sharmarke.kadir\\desktop\\panda data\\pythonproject1\\.venv\\lib\\site-packages (from pdfminer.six>=20181108->pyresparser) (43.0.3)\n",
      "Requirement already satisfied: murmurhash<1.1.0,>=0.28.0 in c:\\users\\sharmarke.kadir\\desktop\\panda data\\pythonproject1\\.venv\\lib\\site-packages (from preshed>=2.0.1->pyresparser) (1.0.10)\n",
      "Requirement already satisfied: spacy-legacy<3.1.0,>=3.0.11 in c:\\users\\sharmarke.kadir\\desktop\\panda data\\pythonproject1\\.venv\\lib\\site-packages (from spacy>=2.1.4->pyresparser) (3.0.12)\n",
      "Requirement already satisfied: spacy-loggers<2.0.0,>=1.0.0 in c:\\users\\sharmarke.kadir\\desktop\\panda data\\pythonproject1\\.venv\\lib\\site-packages (from spacy>=2.1.4->pyresparser) (1.0.5)\n",
      "Requirement already satisfied: catalogue<2.1.0,>=2.0.6 in c:\\users\\sharmarke.kadir\\desktop\\panda data\\pythonproject1\\.venv\\lib\\site-packages (from spacy>=2.1.4->pyresparser) (2.0.10)\n",
      "Requirement already satisfied: weasel<0.5.0,>=0.1.0 in c:\\users\\sharmarke.kadir\\desktop\\panda data\\pythonproject1\\.venv\\lib\\site-packages (from spacy>=2.1.4->pyresparser) (0.4.1)\n",
      "Requirement already satisfied: typer<1.0.0,>=0.3.0 in c:\\users\\sharmarke.kadir\\desktop\\panda data\\pythonproject1\\.venv\\lib\\site-packages (from spacy>=2.1.4->pyresparser) (0.12.5)\n",
      "Requirement already satisfied: pydantic!=1.8,!=1.8.1,<3.0.0,>=1.7.4 in c:\\users\\sharmarke.kadir\\desktop\\panda data\\pythonproject1\\.venv\\lib\\site-packages (from spacy>=2.1.4->pyresparser) (2.9.2)\n",
      "Requirement already satisfied: jinja2 in c:\\users\\sharmarke.kadir\\desktop\\panda data\\pythonproject1\\.venv\\lib\\site-packages (from spacy>=2.1.4->pyresparser) (3.1.4)\n",
      "Requirement already satisfied: setuptools in c:\\users\\sharmarke.kadir\\desktop\\panda data\\pythonproject1\\.venv\\lib\\site-packages (from spacy>=2.1.4->pyresparser) (75.1.0)\n",
      "Requirement already satisfied: packaging>=20.0 in c:\\users\\sharmarke.kadir\\desktop\\panda data\\pythonproject1\\.venv\\lib\\site-packages (from spacy>=2.1.4->pyresparser) (24.1)\n",
      "Requirement already satisfied: langcodes<4.0.0,>=3.2.0 in c:\\users\\sharmarke.kadir\\desktop\\panda data\\pythonproject1\\.venv\\lib\\site-packages (from spacy>=2.1.4->pyresparser) (3.4.1)\n",
      "Requirement already satisfied: confection<1.0.0,>=0.0.1 in c:\\users\\sharmarke.kadir\\desktop\\panda data\\pythonproject1\\.venv\\lib\\site-packages (from thinc>=7.0.4->pyresparser) (0.1.5)\n",
      "Requirement already satisfied: colorama in c:\\users\\sharmarke.kadir\\desktop\\panda data\\pythonproject1\\.venv\\lib\\site-packages (from tqdm>=4.32.2->pyresparser) (0.4.6)\n",
      "Requirement already satisfied: cffi>=1.12 in c:\\users\\sharmarke.kadir\\desktop\\panda data\\pythonproject1\\.venv\\lib\\site-packages (from cryptography>=36.0.0->pdfminer.six>=20181108->pyresparser) (1.17.1)\n",
      "Requirement already satisfied: language-data>=1.2 in c:\\users\\sharmarke.kadir\\desktop\\panda data\\pythonproject1\\.venv\\lib\\site-packages (from langcodes<4.0.0,>=3.2.0->spacy>=2.1.4->pyresparser) (1.2.0)\n",
      "Requirement already satisfied: annotated-types>=0.6.0 in c:\\users\\sharmarke.kadir\\desktop\\panda data\\pythonproject1\\.venv\\lib\\site-packages (from pydantic!=1.8,!=1.8.1,<3.0.0,>=1.7.4->spacy>=2.1.4->pyresparser) (0.7.0)\n",
      "Requirement already satisfied: pydantic-core==2.23.4 in c:\\users\\sharmarke.kadir\\desktop\\panda data\\pythonproject1\\.venv\\lib\\site-packages (from pydantic!=1.8,!=1.8.1,<3.0.0,>=1.7.4->spacy>=2.1.4->pyresparser) (2.23.4)\n",
      "Requirement already satisfied: typing-extensions>=4.6.1 in c:\\users\\sharmarke.kadir\\desktop\\panda data\\pythonproject1\\.venv\\lib\\site-packages (from pydantic!=1.8,!=1.8.1,<3.0.0,>=1.7.4->spacy>=2.1.4->pyresparser) (4.12.2)\n",
      "Requirement already satisfied: shellingham>=1.3.0 in c:\\users\\sharmarke.kadir\\desktop\\panda data\\pythonproject1\\.venv\\lib\\site-packages (from typer<1.0.0,>=0.3.0->spacy>=2.1.4->pyresparser) (1.5.4)\n",
      "Requirement already satisfied: rich>=10.11.0 in c:\\users\\sharmarke.kadir\\desktop\\panda data\\pythonproject1\\.venv\\lib\\site-packages (from typer<1.0.0,>=0.3.0->spacy>=2.1.4->pyresparser) (13.9.2)\n",
      "Requirement already satisfied: cloudpathlib<1.0.0,>=0.7.0 in c:\\users\\sharmarke.kadir\\desktop\\panda data\\pythonproject1\\.venv\\lib\\site-packages (from weasel<0.5.0,>=0.1.0->spacy>=2.1.4->pyresparser) (0.20.0)\n",
      "Requirement already satisfied: smart-open<8.0.0,>=5.2.1 in c:\\users\\sharmarke.kadir\\desktop\\panda data\\pythonproject1\\.venv\\lib\\site-packages (from weasel<0.5.0,>=0.1.0->spacy>=2.1.4->pyresparser) (7.0.5)\n",
      "Requirement already satisfied: MarkupSafe>=2.0 in c:\\users\\sharmarke.kadir\\desktop\\panda data\\pythonproject1\\.venv\\lib\\site-packages (from jinja2->spacy>=2.1.4->pyresparser) (3.0.1)\n",
      "Requirement already satisfied: pycparser in c:\\users\\sharmarke.kadir\\desktop\\panda data\\pythonproject1\\.venv\\lib\\site-packages (from cffi>=1.12->cryptography>=36.0.0->pdfminer.six>=20181108->pyresparser) (2.22)\n",
      "Requirement already satisfied: marisa-trie>=0.7.7 in c:\\users\\sharmarke.kadir\\desktop\\panda data\\pythonproject1\\.venv\\lib\\site-packages (from language-data>=1.2->langcodes<4.0.0,>=3.2.0->spacy>=2.1.4->pyresparser) (1.2.1)\n",
      "Requirement already satisfied: markdown-it-py>=2.2.0 in c:\\users\\sharmarke.kadir\\desktop\\panda data\\pythonproject1\\.venv\\lib\\site-packages (from rich>=10.11.0->typer<1.0.0,>=0.3.0->spacy>=2.1.4->pyresparser) (3.0.0)\n",
      "Requirement already satisfied: pygments<3.0.0,>=2.13.0 in c:\\users\\sharmarke.kadir\\desktop\\panda data\\pythonproject1\\.venv\\lib\\site-packages (from rich>=10.11.0->typer<1.0.0,>=0.3.0->spacy>=2.1.4->pyresparser) (2.18.0)\n",
      "Requirement already satisfied: wrapt in c:\\users\\sharmarke.kadir\\desktop\\panda data\\pythonproject1\\.venv\\lib\\site-packages (from smart-open<8.0.0,>=5.2.1->weasel<0.5.0,>=0.1.0->spacy>=2.1.4->pyresparser) (1.16.0)\n",
      "Requirement already satisfied: mdurl~=0.1 in c:\\users\\sharmarke.kadir\\desktop\\panda data\\pythonproject1\\.venv\\lib\\site-packages (from markdown-it-py>=2.2.0->rich>=10.11.0->typer<1.0.0,>=0.3.0->spacy>=2.1.4->pyresparser) (0.1.2)\n"
     ]
    },
    {
     "name": "stderr",
     "output_type": "stream",
     "text": [
      "\n",
      "[notice] A new release of pip is available: 24.0 -> 24.3.1\n",
      "[notice] To update, run: python.exe -m pip install --upgrade pip\n"
     ]
    }
   ],
   "source": [
    "!pip install pyresparser"
   ]
  },
  {
   "cell_type": "code",
   "execution_count": 2,
   "id": "e1800128-0879-4d15-b8d7-99741a95382d",
   "metadata": {},
   "outputs": [
    {
     "name": "stdout",
     "output_type": "stream",
     "text": [
      "Collecting en-core-web-sm==3.8.0\n",
      "  Downloading https://github.com/explosion/spacy-models/releases/download/en_core_web_sm-3.8.0/en_core_web_sm-3.8.0-py3-none-any.whl (12.8 MB)\n",
      "     ---------------------------------------- 0.0/12.8 MB ? eta -:--:--\n",
      "     ---------------------------------------- 0.0/12.8 MB ? eta -:--:--\n",
      "     --------------------------------------- 0.0/12.8 MB 435.7 kB/s eta 0:00:30\n",
      "     --------------------------------------- 0.1/12.8 MB 762.6 kB/s eta 0:00:17\n",
      "     - -------------------------------------- 0.5/12.8 MB 3.1 MB/s eta 0:00:04\n",
      "     -- ------------------------------------- 0.6/12.8 MB 3.7 MB/s eta 0:00:04\n",
      "     --- ------------------------------------ 1.2/12.8 MB 5.5 MB/s eta 0:00:03\n",
      "     ------ --------------------------------- 2.0/12.8 MB 7.7 MB/s eta 0:00:02\n",
      "     ------- -------------------------------- 2.5/12.8 MB 8.1 MB/s eta 0:00:02\n",
      "     --------- ------------------------------ 3.0/12.8 MB 8.3 MB/s eta 0:00:02\n",
      "     ----------- ---------------------------- 3.5/12.8 MB 8.7 MB/s eta 0:00:02\n",
      "     ------------ --------------------------- 4.0/12.8 MB 8.8 MB/s eta 0:00:01\n",
      "     -------------- ------------------------- 4.5/12.8 MB 9.0 MB/s eta 0:00:01\n",
      "     --------------- ------------------------ 5.0/12.8 MB 9.2 MB/s eta 0:00:01\n",
      "     ----------------- ---------------------- 5.5/12.8 MB 9.3 MB/s eta 0:00:01\n",
      "     ------------------ --------------------- 6.0/12.8 MB 9.3 MB/s eta 0:00:01\n",
      "     ------------------- -------------------- 6.1/12.8 MB 9.3 MB/s eta 0:00:01\n",
      "     -------------------- ------------------- 6.4/12.8 MB 8.9 MB/s eta 0:00:01\n",
      "     --------------------- ------------------ 6.9/12.8 MB 9.0 MB/s eta 0:00:01\n",
      "     ----------------------- ---------------- 7.5/12.8 MB 9.2 MB/s eta 0:00:01\n",
      "     ------------------------ --------------- 8.0/12.8 MB 9.2 MB/s eta 0:00:01\n",
      "     -------------------------- ------------- 8.5/12.8 MB 9.4 MB/s eta 0:00:01\n",
      "     ---------------------------- ----------- 9.0/12.8 MB 9.4 MB/s eta 0:00:01\n",
      "     ----------------------------- ---------- 9.4/12.8 MB 9.4 MB/s eta 0:00:01\n",
      "     ------------------------------ --------- 9.9/12.8 MB 9.4 MB/s eta 0:00:01\n",
      "     ------------------------------- ------- 10.4/12.8 MB 10.4 MB/s eta 0:00:01\n",
      "     --------------------------------- ----- 11.0/12.8 MB 11.1 MB/s eta 0:00:01\n",
      "     ---------------------------------- ---- 11.5/12.8 MB 10.7 MB/s eta 0:00:01\n",
      "     ------------------------------------ -- 12.0/12.8 MB 10.4 MB/s eta 0:00:01\n",
      "     --------------------------------------  12.6/12.8 MB 10.6 MB/s eta 0:00:01\n",
      "     --------------------------------------  12.8/12.8 MB 10.6 MB/s eta 0:00:01\n",
      "     --------------------------------------  12.8/12.8 MB 10.6 MB/s eta 0:00:01\n",
      "     --------------------------------------  12.8/12.8 MB 10.6 MB/s eta 0:00:01\n",
      "     ---------------------------------------- 12.8/12.8 MB 9.1 MB/s eta 0:00:00\n",
      "\u001b[38;5;2m[+] Download and installation successful\u001b[0m\n",
      "You can now load the package via spacy.load('en_core_web_sm')\n"
     ]
    },
    {
     "name": "stderr",
     "output_type": "stream",
     "text": [
      "\n",
      "[notice] A new release of pip is available: 24.0 -> 24.3.1\n",
      "[notice] To update, run: python.exe -m pip install --upgrade pip\n",
      "<frozen runpy>:128: RuntimeWarning: 'nltk.downloader' found in sys.modules after import of package 'nltk', but prior to execution of 'nltk.downloader'; this may result in unpredictable behaviour\n",
      "[nltk_data] Downloading package words to\n",
      "[nltk_data]     C:\\Users\\Sharmarke.Kadir\\AppData\\Roaming\\nltk_data...\n",
      "[nltk_data]   Unzipping corpora\\words.zip.\n",
      "<frozen runpy>:128: RuntimeWarning: 'nltk.downloader' found in sys.modules after import of package 'nltk', but prior to execution of 'nltk.downloader'; this may result in unpredictable behaviour\n",
      "[nltk_data] Downloading package stopwords to\n",
      "[nltk_data]     C:\\Users\\Sharmarke.Kadir\\AppData\\Roaming\\nltk_data...\n",
      "[nltk_data]   Package stopwords is already up-to-date!\n"
     ]
    }
   ],
   "source": [
    "# spaCy\n",
    "!python -m spacy download en_core_web_sm\n",
    "\n",
    "# nltk\n",
    "!python -m nltk.downloader words\n",
    "!python -m nltk.downloader stopwords"
   ]
  },
  {
   "cell_type": "code",
   "execution_count": 3,
   "id": "afeccb51-7117-4ee8-8852-466f0cf12d50",
   "metadata": {},
   "outputs": [
    {
     "name": "stderr",
     "output_type": "stream",
     "text": [
      "C:\\Users\\Sharmarke.Kadir\\Desktop\\Panda Data\\pythonProject1\\.venv\\Lib\\site-packages\\spacy\\util.py:918: UserWarning: [W094] Model 'en_training' (0.0.0) specifies an under-constrained spaCy version requirement: >=2.1.4. This can lead to compatibility problems with older versions, or as new spaCy versions are released, because the model may say it's compatible when it's not. Consider changing the \"spacy_version\" in your meta.json to a version range, with a lower and upper pin. For example: >=3.8.2,<3.9.0\n",
      "  warnings.warn(warn_msg)\n"
     ]
    },
    {
     "ename": "OSError",
     "evalue": "[E053] Could not read config file from C:\\Users\\Sharmarke.Kadir\\Desktop\\Panda Data\\pythonProject1\\.venv\\Lib\\site-packages\\pyresparser\\config.cfg",
     "output_type": "error",
     "traceback": [
      "\u001b[1;31m---------------------------------------------------------------------------\u001b[0m",
      "\u001b[1;31mOSError\u001b[0m                                   Traceback (most recent call last)",
      "Cell \u001b[1;32mIn[3], line 2\u001b[0m\n\u001b[0;32m      1\u001b[0m \u001b[38;5;28;01mfrom\u001b[39;00m \u001b[38;5;21;01mpyresparser\u001b[39;00m \u001b[38;5;28;01mimport\u001b[39;00m ResumeParser\n\u001b[1;32m----> 2\u001b[0m data \u001b[38;5;241m=\u001b[39m \u001b[43mResumeParser\u001b[49m\u001b[43m(\u001b[49m\u001b[38;5;124;43m'\u001b[39;49m\u001b[38;5;124;43mSharmarke Resume.pdf\u001b[39;49m\u001b[38;5;124;43m'\u001b[39;49m\u001b[43m)\u001b[49m\u001b[38;5;241m.\u001b[39mget_extracted_data()\n",
      "File \u001b[1;32m~\\Desktop\\Panda Data\\pythonProject1\\.venv\\Lib\\site-packages\\pyresparser\\resume_parser.py:21\u001b[0m, in \u001b[0;36mResumeParser.__init__\u001b[1;34m(self, resume, skills_file, custom_regex)\u001b[0m\n\u001b[0;32m     14\u001b[0m \u001b[38;5;28;01mdef\u001b[39;00m \u001b[38;5;21m__init__\u001b[39m(\n\u001b[0;32m     15\u001b[0m     \u001b[38;5;28mself\u001b[39m,\n\u001b[0;32m     16\u001b[0m     resume,\n\u001b[0;32m     17\u001b[0m     skills_file\u001b[38;5;241m=\u001b[39m\u001b[38;5;28;01mNone\u001b[39;00m,\n\u001b[0;32m     18\u001b[0m     custom_regex\u001b[38;5;241m=\u001b[39m\u001b[38;5;28;01mNone\u001b[39;00m\n\u001b[0;32m     19\u001b[0m ):\n\u001b[0;32m     20\u001b[0m     nlp \u001b[38;5;241m=\u001b[39m spacy\u001b[38;5;241m.\u001b[39mload(\u001b[38;5;124m'\u001b[39m\u001b[38;5;124men_core_web_sm\u001b[39m\u001b[38;5;124m'\u001b[39m)\n\u001b[1;32m---> 21\u001b[0m     custom_nlp \u001b[38;5;241m=\u001b[39m \u001b[43mspacy\u001b[49m\u001b[38;5;241;43m.\u001b[39;49m\u001b[43mload\u001b[49m\u001b[43m(\u001b[49m\u001b[43mos\u001b[49m\u001b[38;5;241;43m.\u001b[39;49m\u001b[43mpath\u001b[49m\u001b[38;5;241;43m.\u001b[39;49m\u001b[43mdirname\u001b[49m\u001b[43m(\u001b[49m\u001b[43mos\u001b[49m\u001b[38;5;241;43m.\u001b[39;49m\u001b[43mpath\u001b[49m\u001b[38;5;241;43m.\u001b[39;49m\u001b[43mabspath\u001b[49m\u001b[43m(\u001b[49m\u001b[38;5;18;43m__file__\u001b[39;49m\u001b[43m)\u001b[49m\u001b[43m)\u001b[49m\u001b[43m)\u001b[49m\n\u001b[0;32m     22\u001b[0m     \u001b[38;5;28mself\u001b[39m\u001b[38;5;241m.\u001b[39m__skills_file \u001b[38;5;241m=\u001b[39m skills_file\n\u001b[0;32m     23\u001b[0m     \u001b[38;5;28mself\u001b[39m\u001b[38;5;241m.\u001b[39m__custom_regex \u001b[38;5;241m=\u001b[39m custom_regex\n",
      "File \u001b[1;32m~\\Desktop\\Panda Data\\pythonProject1\\.venv\\Lib\\site-packages\\spacy\\__init__.py:51\u001b[0m, in \u001b[0;36mload\u001b[1;34m(name, vocab, disable, enable, exclude, config)\u001b[0m\n\u001b[0;32m     27\u001b[0m \u001b[38;5;28;01mdef\u001b[39;00m \u001b[38;5;21mload\u001b[39m(\n\u001b[0;32m     28\u001b[0m     name: Union[\u001b[38;5;28mstr\u001b[39m, Path],\n\u001b[0;32m     29\u001b[0m     \u001b[38;5;241m*\u001b[39m,\n\u001b[1;32m   (...)\u001b[0m\n\u001b[0;32m     34\u001b[0m     config: Union[Dict[\u001b[38;5;28mstr\u001b[39m, Any], Config] \u001b[38;5;241m=\u001b[39m util\u001b[38;5;241m.\u001b[39mSimpleFrozenDict(),\n\u001b[0;32m     35\u001b[0m ) \u001b[38;5;241m-\u001b[39m\u001b[38;5;241m>\u001b[39m Language:\n\u001b[0;32m     36\u001b[0m \u001b[38;5;250m    \u001b[39m\u001b[38;5;124;03m\"\"\"Load a spaCy model from an installed package or a local path.\u001b[39;00m\n\u001b[0;32m     37\u001b[0m \n\u001b[0;32m     38\u001b[0m \u001b[38;5;124;03m    name (str): Package name or model path.\u001b[39;00m\n\u001b[1;32m   (...)\u001b[0m\n\u001b[0;32m     49\u001b[0m \u001b[38;5;124;03m    RETURNS (Language): The loaded nlp object.\u001b[39;00m\n\u001b[0;32m     50\u001b[0m \u001b[38;5;124;03m    \"\"\"\u001b[39;00m\n\u001b[1;32m---> 51\u001b[0m     \u001b[38;5;28;01mreturn\u001b[39;00m \u001b[43mutil\u001b[49m\u001b[38;5;241;43m.\u001b[39;49m\u001b[43mload_model\u001b[49m\u001b[43m(\u001b[49m\n\u001b[0;32m     52\u001b[0m \u001b[43m        \u001b[49m\u001b[43mname\u001b[49m\u001b[43m,\u001b[49m\n\u001b[0;32m     53\u001b[0m \u001b[43m        \u001b[49m\u001b[43mvocab\u001b[49m\u001b[38;5;241;43m=\u001b[39;49m\u001b[43mvocab\u001b[49m\u001b[43m,\u001b[49m\n\u001b[0;32m     54\u001b[0m \u001b[43m        \u001b[49m\u001b[43mdisable\u001b[49m\u001b[38;5;241;43m=\u001b[39;49m\u001b[43mdisable\u001b[49m\u001b[43m,\u001b[49m\n\u001b[0;32m     55\u001b[0m \u001b[43m        \u001b[49m\u001b[43menable\u001b[49m\u001b[38;5;241;43m=\u001b[39;49m\u001b[43menable\u001b[49m\u001b[43m,\u001b[49m\n\u001b[0;32m     56\u001b[0m \u001b[43m        \u001b[49m\u001b[43mexclude\u001b[49m\u001b[38;5;241;43m=\u001b[39;49m\u001b[43mexclude\u001b[49m\u001b[43m,\u001b[49m\n\u001b[0;32m     57\u001b[0m \u001b[43m        \u001b[49m\u001b[43mconfig\u001b[49m\u001b[38;5;241;43m=\u001b[39;49m\u001b[43mconfig\u001b[49m\u001b[43m,\u001b[49m\n\u001b[0;32m     58\u001b[0m \u001b[43m    \u001b[49m\u001b[43m)\u001b[49m\n",
      "File \u001b[1;32m~\\Desktop\\Panda Data\\pythonProject1\\.venv\\Lib\\site-packages\\spacy\\util.py:467\u001b[0m, in \u001b[0;36mload_model\u001b[1;34m(name, vocab, disable, enable, exclude, config)\u001b[0m\n\u001b[0;32m    465\u001b[0m         \u001b[38;5;28;01mreturn\u001b[39;00m load_model_from_package(name, \u001b[38;5;241m*\u001b[39m\u001b[38;5;241m*\u001b[39mkwargs)  \u001b[38;5;66;03m# type: ignore[arg-type]\u001b[39;00m\n\u001b[0;32m    466\u001b[0m     \u001b[38;5;28;01mif\u001b[39;00m Path(name)\u001b[38;5;241m.\u001b[39mexists():  \u001b[38;5;66;03m# path to model data directory\u001b[39;00m\n\u001b[1;32m--> 467\u001b[0m         \u001b[38;5;28;01mreturn\u001b[39;00m \u001b[43mload_model_from_path\u001b[49m\u001b[43m(\u001b[49m\u001b[43mPath\u001b[49m\u001b[43m(\u001b[49m\u001b[43mname\u001b[49m\u001b[43m)\u001b[49m\u001b[43m,\u001b[49m\u001b[43m \u001b[49m\u001b[38;5;241;43m*\u001b[39;49m\u001b[38;5;241;43m*\u001b[39;49m\u001b[43mkwargs\u001b[49m\u001b[43m)\u001b[49m  \u001b[38;5;66;03m# type: ignore[arg-type]\u001b[39;00m\n\u001b[0;32m    468\u001b[0m \u001b[38;5;28;01melif\u001b[39;00m \u001b[38;5;28mhasattr\u001b[39m(name, \u001b[38;5;124m\"\u001b[39m\u001b[38;5;124mexists\u001b[39m\u001b[38;5;124m\"\u001b[39m):  \u001b[38;5;66;03m# Path or Path-like to model data\u001b[39;00m\n\u001b[0;32m    469\u001b[0m     \u001b[38;5;28;01mreturn\u001b[39;00m load_model_from_path(name, \u001b[38;5;241m*\u001b[39m\u001b[38;5;241m*\u001b[39mkwargs)  \u001b[38;5;66;03m# type: ignore[arg-type]\u001b[39;00m\n",
      "File \u001b[1;32m~\\Desktop\\Panda Data\\pythonProject1\\.venv\\Lib\\site-packages\\spacy\\util.py:538\u001b[0m, in \u001b[0;36mload_model_from_path\u001b[1;34m(model_path, meta, vocab, disable, enable, exclude, config)\u001b[0m\n\u001b[0;32m    536\u001b[0m config_path \u001b[38;5;241m=\u001b[39m model_path \u001b[38;5;241m/\u001b[39m \u001b[38;5;124m\"\u001b[39m\u001b[38;5;124mconfig.cfg\u001b[39m\u001b[38;5;124m\"\u001b[39m\n\u001b[0;32m    537\u001b[0m overrides \u001b[38;5;241m=\u001b[39m dict_to_dot(config, for_overrides\u001b[38;5;241m=\u001b[39m\u001b[38;5;28;01mTrue\u001b[39;00m)\n\u001b[1;32m--> 538\u001b[0m config \u001b[38;5;241m=\u001b[39m \u001b[43mload_config\u001b[49m\u001b[43m(\u001b[49m\u001b[43mconfig_path\u001b[49m\u001b[43m,\u001b[49m\u001b[43m \u001b[49m\u001b[43moverrides\u001b[49m\u001b[38;5;241;43m=\u001b[39;49m\u001b[43moverrides\u001b[49m\u001b[43m)\u001b[49m\n\u001b[0;32m    539\u001b[0m nlp \u001b[38;5;241m=\u001b[39m load_model_from_config(\n\u001b[0;32m    540\u001b[0m     config,\n\u001b[0;32m    541\u001b[0m     vocab\u001b[38;5;241m=\u001b[39mvocab,\n\u001b[1;32m   (...)\u001b[0m\n\u001b[0;32m    545\u001b[0m     meta\u001b[38;5;241m=\u001b[39mmeta,\n\u001b[0;32m    546\u001b[0m )\n\u001b[0;32m    547\u001b[0m \u001b[38;5;28;01mreturn\u001b[39;00m nlp\u001b[38;5;241m.\u001b[39mfrom_disk(model_path, exclude\u001b[38;5;241m=\u001b[39mexclude, overrides\u001b[38;5;241m=\u001b[39moverrides)\n",
      "File \u001b[1;32m~\\Desktop\\Panda Data\\pythonProject1\\.venv\\Lib\\site-packages\\spacy\\util.py:714\u001b[0m, in \u001b[0;36mload_config\u001b[1;34m(path, overrides, interpolate)\u001b[0m\n\u001b[0;32m    712\u001b[0m \u001b[38;5;28;01melse\u001b[39;00m:\n\u001b[0;32m    713\u001b[0m     \u001b[38;5;28;01mif\u001b[39;00m \u001b[38;5;129;01mnot\u001b[39;00m config_path \u001b[38;5;129;01mor\u001b[39;00m \u001b[38;5;129;01mnot\u001b[39;00m config_path\u001b[38;5;241m.\u001b[39mis_file():\n\u001b[1;32m--> 714\u001b[0m         \u001b[38;5;28;01mraise\u001b[39;00m \u001b[38;5;167;01mIOError\u001b[39;00m(Errors\u001b[38;5;241m.\u001b[39mE053\u001b[38;5;241m.\u001b[39mformat(path\u001b[38;5;241m=\u001b[39mconfig_path, name\u001b[38;5;241m=\u001b[39m\u001b[38;5;124m\"\u001b[39m\u001b[38;5;124mconfig file\u001b[39m\u001b[38;5;124m\"\u001b[39m))\n\u001b[0;32m    715\u001b[0m     \u001b[38;5;28;01mreturn\u001b[39;00m config\u001b[38;5;241m.\u001b[39mfrom_disk(\n\u001b[0;32m    716\u001b[0m         config_path, overrides\u001b[38;5;241m=\u001b[39moverrides, interpolate\u001b[38;5;241m=\u001b[39minterpolate\n\u001b[0;32m    717\u001b[0m     )\n",
      "\u001b[1;31mOSError\u001b[0m: [E053] Could not read config file from C:\\Users\\Sharmarke.Kadir\\Desktop\\Panda Data\\pythonProject1\\.venv\\Lib\\site-packages\\pyresparser\\config.cfg"
     ]
    }
   ],
   "source": [
    "from pyresparser import ResumeParser\n",
    "data = ResumeParser('/path/to/resume/file').get_extracted_data()"
   ]
  },
  {
   "cell_type": "code",
   "execution_count": null,
   "id": "0f1b8309-09db-4f78-9904-0a1079243414",
   "metadata": {},
   "outputs": [],
   "source": []
  }
 ],
 "metadata": {
  "kernelspec": {
   "display_name": "Python 3 (ipykernel)",
   "language": "python",
   "name": "python3"
  },
  "language_info": {
   "codemirror_mode": {
    "name": "ipython",
    "version": 3
   },
   "file_extension": ".py",
   "mimetype": "text/x-python",
   "name": "python",
   "nbconvert_exporter": "python",
   "pygments_lexer": "ipython3",
   "version": "3.12.3"
  }
 },
 "nbformat": 4,
 "nbformat_minor": 5
}
